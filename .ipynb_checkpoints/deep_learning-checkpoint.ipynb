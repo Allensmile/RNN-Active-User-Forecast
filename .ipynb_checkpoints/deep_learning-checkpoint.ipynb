{
 "cells": [
  {
   "cell_type": "code",
   "execution_count": null,
   "metadata": {
    "collapsed": false
   },
   "outputs": [],
   "source": [
    "import pandas as pd\n",
    "import numpy as np\n",
    "import tensorflow as tf\n",
    "import datetime\n",
    "from deep_tools import f\n",
    "from deep_tools import DataGenerator\n",
    "\n",
    "register=pd.read_csv('./data/user_register_log.txt',sep='\\t',names=['user_id','register_day','register_type','device_type'])\n",
    "launch=pd.read_csv('./data/app_launch_log.txt',sep='\\t',names=['user_id','launch_day'])\n",
    "create=pd.read_csv('./data/video_create_log.txt',sep='\\t',names=['user_id','create_day'])\n",
    "activity=pd.read_csv('./data/user_activity_log.txt',sep='\\t',names=['user_id','act_day','page','video_id','author_id','act_type'])"
   ]
  },
  {
   "cell_type": "code",
   "execution_count": null,
   "metadata": {
    "collapsed": true
   },
   "outputs": [],
   "source": [
    "#参数\n",
    "n_features=12\n",
    "n_hu=5\n",
    "n_device=50\n",
    "n_register=7\n",
    "n_days=31"
   ]
  },
  {
   "cell_type": "code",
   "execution_count": null,
   "metadata": {
    "collapsed": true
   },
   "outputs": [],
   "source": [
    "data_generator=DataGenerator(register,launch,create,activity)"
   ]
  },
  {
   "cell_type": "code",
   "execution_count": null,
   "metadata": {
    "collapsed": true
   },
   "outputs": [],
   "source": [
    "#device_dict\n",
    "device_table=register.groupby(['device_type'],as_index=False).agg({'user_id':'count'})\n",
    "device_table=device_table.sort_values(by=['user_id'],ascending=False)\n",
    "device_table['device_type_map']=np.arange(len(device_table))\n",
    "device_table.drop('user_id',axis=1,inplace=True)\n",
    "register=pd.merge(register,device_table)\n",
    "device_dict={row[0]:row[-1] for index,row in register.iterrows()}\n",
    "\n",
    "#register_dict\n",
    "register_dict={row[0]:row[2] for index,row in register.iterrows()}"
   ]
  },
  {
   "cell_type": "code",
   "execution_count": null,
   "metadata": {
    "collapsed": true
   },
   "outputs": [],
   "source": [
    "tf.reset_default_graph()\n",
    "tf.set_random_seed(10)\n",
    "\n",
    "#Variables\n",
    "with tf.variable_scope('test4'):\n",
    "    \n",
    "    #变量与输入\n",
    "    lr=tf.placeholder(tf.float32,[],name='learning_rate')\n",
    "\n",
    "    W_out=tf.get_variable('W_out',[n_hu,1])\n",
    "    b_out=tf.get_variable('b_out',[1])\n",
    "\n",
    "    \n",
    "    x=tf.placeholder(tf.float32,[None,None,n_features])\n",
    "    y=tf.placeholder(tf.float32,[None,None])\n",
    "    \n",
    "    batch_size=tf.shape(x)[0]\n",
    "    seq_length=tf.shape(x)[1]\n",
    "\n",
    "    PR_input=tf.placeholder(tf.float32,[None,None,1])\n",
    "    \n",
    "    device_input=tf.placeholder(tf.int32,[None])\n",
    "    register_input=tf.placeholder(tf.int32,[None])\n",
    "    date_input=tf.placeholder(tf.int32,[None])\n",
    "    \n",
    "    device_embedding=tf.get_variable('device_embedding',[n_device,1],initializer=tf.zeros_initializer)\n",
    "    register_embedding=tf.get_variable('register_embedding',[n_register,1],initializer=tf.zeros_initializer)\n",
    "    date_embedding=tf.get_variable('date_embedding',[n_days,1],initializer=tf.zeros_initializer)\n",
    "    \n",
    "    #RNN层\n",
    "    cell=tf.nn.rnn_cell.GRUCell(n_hu)\n",
    "    initial_state = cell.zero_state(batch_size, dtype=tf.float32)\n",
    "    outputs, state = tf.nn.dynamic_rnn(cell, x,\n",
    "                                       initial_state=initial_state)\n",
    "    \n",
    "    #输出层\n",
    "    outputs=tf.reshape(outputs,[-1,n_hu])\n",
    "    logits=tf.matmul(outputs,W_out)+b_out\n",
    "    logits=tf.reshape(logits,tf.stack([batch_size,seq_length]))\n",
    "    \n",
    "    device_intercept=tf.nn.embedding_lookup(device_embedding,device_input)\n",
    "    register_intercept=tf.nn.embedding_lookup(register_embedding,register_input)\n",
    "    date_intercept=tf.nn.embedding_lookup(date_embedding,date_input)\n",
    "    date_intercept=tf.reshape(date_intercept,tf.stack([1,seq_length]))\n",
    "    \n",
    "    \n",
    "    logits=logits+device_intercept+register_intercept+date_intercept"
   ]
  },
  {
   "cell_type": "code",
   "execution_count": null,
   "metadata": {
    "collapsed": true
   },
   "outputs": [],
   "source": [
    "#local_train\n",
    "logits_local_train=logits[:,:-14]\n",
    "label_local_train=y[:,:-14]\n",
    "\n",
    "regularizer=tf.contrib.layers.l2_regularizer(0.00001)\n",
    "penalty=tf.contrib.layers.apply_regularization(regularizer,tf.trainable_variables())\n",
    "\n",
    "obj_local=tf.losses.sigmoid_cross_entropy(label_local_train,logits_local_train)+penalty\n",
    "optimizer=tf.train.AdamOptimizer(lr)\n",
    "step_local=optimizer.minimize(obj_local)\n",
    "\n",
    "#local_test\n",
    "logits_local_test=logits[:,-8]\n",
    "label_local_test=y[:,-8]\n",
    "\n",
    "#online_train\n",
    "logits_online_train=logits[:,:-7]\n",
    "label_online_train=y[:,:-7]\n",
    "\n",
    "obj_online=tf.losses.sigmoid_cross_entropy(label_online_train,logits_online_train)+penalty\n",
    "optimizer=tf.train.AdamOptimizer(lr)\n",
    "step_online=optimizer.minimize(obj_online)\n",
    "\n",
    "#online_test\n",
    "logits_online_test=logits[:,-1]"
   ]
  },
  {
   "cell_type": "code",
   "execution_count": null,
   "metadata": {
    "collapsed": true
   },
   "outputs": [],
   "source": [
    "sess=tf.Session()\n",
    "sess.run(tf.global_variables_initializer())"
   ]
  },
  {
   "cell_type": "code",
   "execution_count": null,
   "metadata": {
    "collapsed": true
   },
   "outputs": [],
   "source": [
    "def test(strategy='local'):\n",
    "    if strategy=='local':\n",
    "        n_NA=14\n",
    "        date_seq=[31]+list(range(2,16))+[16]*15\n",
    "        variables_1=[obj_local,logits_local_train,label_local_train]\n",
    "        variables_2=[logits_local_test,label_local_test]\n",
    "    else:\n",
    "        n_NA=7\n",
    "        date_seq=[31]+list(range(2,23))+[23]*8\n",
    "        variables_1=[obj_online,logits_online_train,label_online_train]\n",
    "        variables_2=logits_online_test\n",
    "        \n",
    "    obs_count,cum_loss,correct=0,0,0\n",
    "    user,prob,real=[],[],[]\n",
    "\n",
    "    #训练损失\n",
    "    for length,id_list,data_x,data_y in zip(*data_generator.get_set(strategy,'train')):\n",
    "        _obj,_logits_train,_label_train=sess.run(variables_1,\n",
    "                           feed_dict={x:data_x,\n",
    "                                      y:data_y,\n",
    "                                      device_input:[device_dict[u] for u in id_list],\n",
    "                                      register_input:[register_dict[u] for u in id_list],\n",
    "                                      date_input:date_seq[-length:],\n",
    "                                      lr:0.001})\n",
    "\n",
    "        obs_count+=(length-n_NA)*len(id_list)\n",
    "        cum_loss+=_obj*(length-n_NA)*len(id_list)\n",
    "        correct+=np.sum((1*(_logits_train>0)==_label_train))\n",
    "\n",
    "    #测试损失\n",
    "    for length,id_list,data_x,data_y in zip(*data_generator.get_set(strategy,'test')):\n",
    "        _=sess.run(variables_2,\n",
    "                           feed_dict={x:data_x,\n",
    "                                      y:data_y,\n",
    "                                      device_input:[device_dict[u] for u in id_list],\n",
    "                                      register_input:[register_dict[u] for u in id_list],\n",
    "                                      date_input:date_seq[-length:],\n",
    "                                      lr:0.001})\n",
    "        if strategy=='local':\n",
    "            _logits_test,_label_test=_\n",
    "            real+=list(_label_test)\n",
    "        else:\n",
    "            _logits_test=_\n",
    "\n",
    "        user+=list(id_list)\n",
    "        prob+=list(1/(1+np.exp(-_logits_test.reshape([-1]))))\n",
    "    \n",
    "    #训练损失\n",
    "    print('train_loss',cum_loss/obs_count,correct/obs_count)\n",
    "    \n",
    "    #测试损失\n",
    "    if strategy=='local':\n",
    "        result=pd.DataFrame({'user_id':user,'prob':prob,'label':real})\n",
    "        print('test_score:',f(result))\n",
    "    else:\n",
    "        result=pd.DataFrame({'user_id':user,'prob':prob})\n",
    "    return result"
   ]
  },
  {
   "cell_type": "code",
   "execution_count": null,
   "metadata": {
    "collapsed": true
   },
   "outputs": [],
   "source": [
    "def train(strategy='local',n_obs=1000,step=1000,lr_feed=0.01):\n",
    "    \n",
    "    if strategy=='local':\n",
    "        date_seq=[31]+list(range(2,16))+[16]*15\n",
    "        variables=[step_local,obj_local,label_local_train,logits_local_train]\n",
    "    else:\n",
    "        date_seq=[31]+list(range(2,23))+[23]*8\n",
    "        variables=[step_online,obj_online,label_online_train,logits_online_train]\n",
    "\n",
    "    for i in range(step):\n",
    "        length,id_list,data_x,data_y=data_generator.next_batch(strategy,n_obs)\n",
    "        _,los,lab,log=sess.run(variables,\n",
    "                               feed_dict={x:data_x,\n",
    "                                          y:data_y,\n",
    "                                          device_input:[device_dict[u] for u in id_list],\n",
    "                                          register_input:[register_dict[u] for u in id_list],\n",
    "                                          date_input:date_seq[-length:],\n",
    "                                          lr:lr_feed})"
   ]
  },
  {
   "cell_type": "code",
   "execution_count": null,
   "metadata": {
    "collapsed": true
   },
   "outputs": [],
   "source": [
    "sess.run(tf.global_variables_initializer())"
   ]
  },
  {
   "cell_type": "code",
   "execution_count": null,
   "metadata": {
    "collapsed": true
   },
   "outputs": [],
   "source": [
    "def cos_annealing_local(epoch=5):\n",
    "    all_result=None\n",
    "    for i in range(epoch):\n",
    "        train('local',n_obs=1000,step=2000,lr_feed=0.01)\n",
    "        train('local',n_obs=1000,step=2000,lr_feed=0.001)\n",
    "        result=test('local')\n",
    "        print(sess.run(penalty))\n",
    "        result.columns=['label','prob%s'%i,'user_id']\n",
    "        if i==0:\n",
    "            all_result=result\n",
    "        else:\n",
    "            all_result=pd.merge(all_result,result)\n",
    "    return all_result\n",
    "\n",
    "def cos_annealing_online(epoch=5):\n",
    "    all_result=None\n",
    "    for i in range(epoch):\n",
    "        train('online',n_obs=1000,step=2000,lr_feed=0.01)\n",
    "        train('online',n_obs=1000,step=2000,lr_feed=0.001)\n",
    "        result=test('online')\n",
    "        print(sess.run(penalty))\n",
    "        result.columns=['prob%s'%i,'user_id']\n",
    "        if i==0:\n",
    "            all_result=result\n",
    "        else:\n",
    "            all_result=pd.merge(all_result,result)\n",
    "    return all_result"
   ]
  },
  {
   "cell_type": "code",
   "execution_count": null,
   "metadata": {
    "collapsed": false
   },
   "outputs": [],
   "source": [
    "#线下测试\n",
    "print(datetime.datetime.now())\n",
    "result=cos_annealing_local(5)\n",
    "print(datetime.datetime.now())"
   ]
  },
  {
   "cell_type": "code",
   "execution_count": null,
   "metadata": {
    "collapsed": false
   },
   "outputs": [],
   "source": [
    "#线上提交\n",
    "print(datetime.datetime.now())\n",
    "result=cos_annealing_online(5)\n",
    "print(datetime.datetime.now())"
   ]
  },
  {
   "cell_type": "code",
   "execution_count": null,
   "metadata": {
    "collapsed": true
   },
   "outputs": [],
   "source": [
    "#融合\n",
    "result['prob']=(result.prob0+result.prob1+result.prob2+result.prob3+result.prob4)/5"
   ]
  },
  {
   "cell_type": "code",
   "execution_count": null,
   "metadata": {
    "collapsed": true
   },
   "outputs": [],
   "source": [
    "result.sort_values(by='prob',ascending=False,inplace=True)\n",
    "result=result.reset_index(drop=True)"
   ]
  },
  {
   "cell_type": "code",
   "execution_count": null,
   "metadata": {
    "collapsed": true
   },
   "outputs": [],
   "source": [
    "result.loc[:24800,['user_id']].to_csv('output/result.csv',header=False,index=False)"
   ]
  },
  {
   "cell_type": "code",
   "execution_count": null,
   "metadata": {
    "collapsed": true
   },
   "outputs": [],
   "source": []
  }
 ],
 "metadata": {
  "kernelspec": {
   "display_name": "Python 3",
   "language": "python",
   "name": "python3"
  },
  "language_info": {
   "codemirror_mode": {
    "name": "ipython",
    "version": 3
   },
   "file_extension": ".py",
   "mimetype": "text/x-python",
   "name": "python",
   "nbconvert_exporter": "python",
   "pygments_lexer": "ipython3",
   "version": "3.6.0"
  }
 },
 "nbformat": 4,
 "nbformat_minor": 2
}
