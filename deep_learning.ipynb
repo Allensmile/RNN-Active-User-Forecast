{
 "cells": [
  {
   "cell_type": "code",
   "execution_count": 1,
   "metadata": {},
   "outputs": [
    {
     "name": "stderr",
     "output_type": "stream",
     "text": [
      "C:\\anaconda\\envs\\tensorflow\\lib\\site-packages\\h5py\\__init__.py:34: FutureWarning: Conversion of the second argument of issubdtype from `float` to `np.floating` is deprecated. In future, it will be treated as `np.float64 == np.dtype(float).type`.\n",
      "  from ._conv import register_converters as _register_converters\n"
     ]
    }
   ],
   "source": [
    "import pandas as pd\n",
    "import numpy as np\n",
    "import tensorflow as tf\n",
    "import datetime\n",
    "from deep_tools import f\n",
    "from deep_tools import DataGenerator\n",
    "\n",
    "register=pd.read_csv('./data/user_register_log.txt',sep='\\t',names=['user_id','register_day','register_type','device_type'])\n",
    "launch=pd.read_csv('./data/app_launch_log.txt',sep='\\t',names=['user_id','launch_day'])\n",
    "create=pd.read_csv('./data/video_create_log.txt',sep='\\t',names=['user_id','create_day'])\n",
    "activity=pd.read_csv('./data/user_activity_log.txt',sep='\\t',names=['user_id','act_day','page','video_id','author_id','act_type'])"
   ]
  },
  {
   "cell_type": "code",
   "execution_count": 2,
   "metadata": {
    "collapsed": true
   },
   "outputs": [],
   "source": [
    "#参数\n",
    "n_features=12\n",
    "n_hu=5\n",
    "n_device=50\n",
    "n_register=7\n",
    "n_days=31"
   ]
  },
  {
   "cell_type": "code",
   "execution_count": 3,
   "metadata": {},
   "outputs": [],
   "source": [
    "data_generator=DataGenerator(register,launch,create,activity)"
   ]
  },
  {
   "cell_type": "code",
   "execution_count": 4,
   "metadata": {
    "collapsed": true
   },
   "outputs": [],
   "source": [
    "#device_dict\n",
    "device_table=register.groupby(['device_type'],as_index=False).agg({'user_id':'count'})\n",
    "device_table=device_table.sort_values(by=['user_id'],ascending=False)\n",
    "device_table['device_type_map']=np.arange(len(device_table))\n",
    "device_table.drop('user_id',axis=1,inplace=True)\n",
    "register=pd.merge(register,device_table)\n",
    "device_dict={row[0]:row[-1] for index,row in register.iterrows()}\n",
    "\n",
    "#register_dict\n",
    "register_dict={row[0]:row[2] for index,row in register.iterrows()}"
   ]
  },
  {
   "cell_type": "code",
   "execution_count": 5,
   "metadata": {},
   "outputs": [],
   "source": [
    "tf.reset_default_graph()\n",
    "tf.set_random_seed(10)\n",
    "\n",
    "#Variables\n",
    "with tf.variable_scope('test4'):\n",
    "    \n",
    "    #变量与输入\n",
    "    lr=tf.placeholder(tf.float32,[],name='learning_rate')\n",
    "\n",
    "    W_out=tf.get_variable('W_out',[n_hu,1])\n",
    "    b_out=tf.get_variable('b_out',[1])\n",
    "\n",
    "    \n",
    "    x=tf.placeholder(tf.float32,[None,None,n_features])\n",
    "    y=tf.placeholder(tf.float32,[None,None])\n",
    "    \n",
    "    batch_size=tf.shape(x)[0]\n",
    "    seq_length=tf.shape(x)[1]\n",
    "\n",
    "    PR_input=tf.placeholder(tf.float32,[None,None,1])\n",
    "    \n",
    "    device_input=tf.placeholder(tf.int32,[None])\n",
    "    register_input=tf.placeholder(tf.int32,[None])\n",
    "    date_input=tf.placeholder(tf.int32,[None])\n",
    "    \n",
    "    device_embedding=tf.get_variable('device_embedding',[n_device,1],initializer=tf.zeros_initializer)\n",
    "    register_embedding=tf.get_variable('register_embedding',[n_register,1],initializer=tf.zeros_initializer)\n",
    "    date_embedding=tf.get_variable('date_embedding',[n_days,1],initializer=tf.zeros_initializer)\n",
    "    \n",
    "    #RNN层\n",
    "    cell=tf.nn.rnn_cell.GRUCell(n_hu)\n",
    "    initial_state = cell.zero_state(batch_size, dtype=tf.float32)\n",
    "    outputs, state = tf.nn.dynamic_rnn(cell, x,\n",
    "                                       initial_state=initial_state)\n",
    "    \n",
    "    #输出层\n",
    "    outputs=tf.reshape(outputs,[-1,n_hu])\n",
    "    logits=tf.matmul(outputs,W_out)+b_out\n",
    "    logits=tf.reshape(logits,tf.stack([batch_size,seq_length]))\n",
    "    \n",
    "    device_intercept=tf.nn.embedding_lookup(device_embedding,device_input)\n",
    "    register_intercept=tf.nn.embedding_lookup(register_embedding,register_input)\n",
    "    date_intercept=tf.nn.embedding_lookup(date_embedding,date_input)\n",
    "    date_intercept=tf.reshape(date_intercept,tf.stack([1,seq_length]))\n",
    "    \n",
    "    \n",
    "    logits=logits+device_intercept+register_intercept+date_intercept"
   ]
  },
  {
   "cell_type": "code",
   "execution_count": 6,
   "metadata": {
    "collapsed": true
   },
   "outputs": [],
   "source": [
    "#local_train\n",
    "logits_local_train=logits[:,:-14]\n",
    "label_local_train=y[:,:-14]\n",
    "\n",
    "regularizer=tf.contrib.layers.l2_regularizer(0.00001)\n",
    "penalty=tf.contrib.layers.apply_regularization(regularizer,tf.trainable_variables())\n",
    "\n",
    "obj_local=tf.losses.sigmoid_cross_entropy(label_local_train,logits_local_train)+penalty\n",
    "optimizer=tf.train.AdamOptimizer(lr)\n",
    "step_local=optimizer.minimize(obj_local)\n",
    "\n",
    "#local_test\n",
    "logits_local_test=logits[:,-8]\n",
    "label_local_test=y[:,-8]\n",
    "\n",
    "#online_train\n",
    "logits_online_train=logits[:,:-7]\n",
    "label_online_train=y[:,:-7]\n",
    "\n",
    "obj_online=tf.losses.sigmoid_cross_entropy(label_online_train,logits_online_train)+penalty\n",
    "optimizer=tf.train.AdamOptimizer(lr)\n",
    "step_online=optimizer.minimize(obj_online)\n",
    "\n",
    "#online_test\n",
    "logits_online_test=logits[:,-1]"
   ]
  },
  {
   "cell_type": "code",
   "execution_count": 7,
   "metadata": {
    "collapsed": true
   },
   "outputs": [],
   "source": [
    "sess=tf.Session()\n",
    "sess.run(tf.global_variables_initializer())"
   ]
  },
  {
   "cell_type": "code",
   "execution_count": 8,
   "metadata": {
    "collapsed": true
   },
   "outputs": [],
   "source": [
    "def test(strategy='local'):\n",
    "    if strategy=='local':\n",
    "        n_NA=14\n",
    "        date_seq=[31]+list(range(2,16))+[16]*15\n",
    "        variables_1=[obj_local,logits_local_train,label_local_train]\n",
    "        variables_2=[logits_local_test,label_local_test]\n",
    "    else:\n",
    "        n_NA=7\n",
    "        date_seq=[31]+list(range(2,23))+[23]*8\n",
    "        variables_1=[obj_online,logits_online_train,label_online_train]\n",
    "        variables_2=logits_online_test\n",
    "        \n",
    "    obs_count,cum_loss,correct=0,0,0\n",
    "    user,prob,real=[],[],[]\n",
    "\n",
    "    #训练损失\n",
    "    for length,id_list,data_x,data_y in zip(*data_generator.get_set(strategy,'train')):\n",
    "        _obj,_logits_train,_label_train=sess.run(variables_1,\n",
    "                           feed_dict={x:data_x,\n",
    "                                      y:data_y,\n",
    "                                      device_input:[device_dict[u] for u in id_list],\n",
    "                                      register_input:[register_dict[u] for u in id_list],\n",
    "                                      date_input:date_seq[-length:],\n",
    "                                      lr:0.001})\n",
    "\n",
    "        obs_count+=(length-n_NA)*len(id_list)\n",
    "        cum_loss+=_obj*(length-n_NA)*len(id_list)\n",
    "        correct+=np.sum((1*(_logits_train>0)==_label_train))\n",
    "\n",
    "    #测试损失\n",
    "    for length,id_list,data_x,data_y in zip(*data_generator.get_set(strategy,'test')):\n",
    "        _=sess.run(variables_2,\n",
    "                           feed_dict={x:data_x,\n",
    "                                      y:data_y,\n",
    "                                      device_input:[device_dict[u] for u in id_list],\n",
    "                                      register_input:[register_dict[u] for u in id_list],\n",
    "                                      date_input:date_seq[-length:],\n",
    "                                      lr:0.001})\n",
    "        if strategy=='local':\n",
    "            _logits_test,_label_test=_\n",
    "            real+=list(_label_test)\n",
    "        else:\n",
    "            _logits_test=_\n",
    "\n",
    "        user+=list(id_list)\n",
    "        prob+=list(1/(1+np.exp(-_logits_test.reshape([-1]))))\n",
    "    \n",
    "    #训练损失\n",
    "    print('train_loss',cum_loss/obs_count,correct/obs_count)\n",
    "    \n",
    "    #测试损失\n",
    "    if strategy=='local':\n",
    "        result=pd.DataFrame({'user_id':user,'prob':prob,'label':real})\n",
    "        print('test_score:',f(result))\n",
    "    else:\n",
    "        result=pd.DataFrame({'user_id':user,'prob':prob})\n",
    "    return result"
   ]
  },
  {
   "cell_type": "code",
   "execution_count": 9,
   "metadata": {
    "collapsed": true
   },
   "outputs": [],
   "source": [
    "def train(strategy='local',n_obs=1000,step=1000,lr_feed=0.01):\n",
    "    \n",
    "    if strategy=='local':\n",
    "        date_seq=[31]+list(range(2,16))+[16]*15\n",
    "        variables=[step_local,obj_local,label_local_train,logits_local_train]\n",
    "    else:\n",
    "        date_seq=[31]+list(range(2,23))+[23]*8\n",
    "        variables=[step_online,obj_online,label_online_train,logits_online_train]\n",
    "\n",
    "    for i in range(step):\n",
    "        length,id_list,data_x,data_y=data_generator.next_batch(strategy,n_obs)\n",
    "        _,los,lab,log=sess.run(variables,\n",
    "                               feed_dict={x:data_x,\n",
    "                                          y:data_y,\n",
    "                                          device_input:[device_dict[u] for u in id_list],\n",
    "                                          register_input:[register_dict[u] for u in id_list],\n",
    "                                          date_input:date_seq[-length:],\n",
    "                                          lr:lr_feed})"
   ]
  },
  {
   "cell_type": "code",
   "execution_count": 10,
   "metadata": {
    "collapsed": true
   },
   "outputs": [],
   "source": [
    "sess.run(tf.global_variables_initializer())"
   ]
  },
  {
   "cell_type": "code",
   "execution_count": 14,
   "metadata": {
    "collapsed": true
   },
   "outputs": [],
   "source": [
    "def cos_annealing_local(epoch=5):\n",
    "    all_result=None\n",
    "    for i in range(epoch):\n",
    "        train('local',n_obs=1000,step=2000,lr_feed=0.01)\n",
    "        train('local',n_obs=1000,step=2000,lr_feed=0.001)\n",
    "        result=test('local')\n",
    "        print(sess.run(penalty))\n",
    "        result.columns=['label','prob%s'%i,'user_id']\n",
    "        if i==0:\n",
    "            all_result=result\n",
    "        else:\n",
    "            all_result=pd.merge(all_result,result)\n",
    "    return all_result\n",
    "\n",
    "def cos_annealing_online(epoch=5):\n",
    "    all_result=None\n",
    "    for i in range(epoch):\n",
    "        train('online',n_obs=1000,step=2000,lr_feed=0.01)\n",
    "        train('online',n_obs=1000,step=2000,lr_feed=0.001)\n",
    "        result=test('online')\n",
    "        print(sess.run(penalty))\n",
    "        result.columns=['prob%s'%i,'user_id']\n",
    "        if i==0:\n",
    "            all_result=result\n",
    "        else:\n",
    "            all_result=pd.merge(all_result,result)\n",
    "    return all_result"
   ]
  },
  {
   "cell_type": "code",
   "execution_count": 12,
   "metadata": {
    "collapsed": true
   },
   "outputs": [
    {
     "name": "stdout",
     "output_type": "stream",
     "text": [
      "2018-08-19 11:50:41.944068\n",
      "train_loss 0.460530827227288 0.7841321877065432\n",
      "test_score: [0.8052266444108289, 0.8053691275167785, 0.8060189211268348, 0.8061283995122726, 0.8058818828418445, 0.8054848817590187]\n",
      "0.00060405146\n"
     ]
    },
    {
     "ename": "KeyboardInterrupt",
     "evalue": "",
     "output_type": "error",
     "traceback": [
      "\u001b[1;31m---------------------------------------------------------------------------\u001b[0m",
      "\u001b[1;31mKeyboardInterrupt\u001b[0m                         Traceback (most recent call last)",
      "\u001b[1;32m<ipython-input-12-a8b45adc81aa>\u001b[0m in \u001b[0;36m<module>\u001b[1;34m()\u001b[0m\n\u001b[0;32m      1\u001b[0m \u001b[0mprint\u001b[0m\u001b[1;33m(\u001b[0m\u001b[0mdatetime\u001b[0m\u001b[1;33m.\u001b[0m\u001b[0mdatetime\u001b[0m\u001b[1;33m.\u001b[0m\u001b[0mnow\u001b[0m\u001b[1;33m(\u001b[0m\u001b[1;33m)\u001b[0m\u001b[1;33m)\u001b[0m\u001b[1;33m\u001b[0m\u001b[0m\n\u001b[1;32m----> 2\u001b[1;33m \u001b[0mall_result\u001b[0m\u001b[1;33m=\u001b[0m\u001b[0mcos_annealing_local\u001b[0m\u001b[1;33m(\u001b[0m\u001b[1;36m5\u001b[0m\u001b[1;33m)\u001b[0m\u001b[1;33m\u001b[0m\u001b[0m\n\u001b[0m\u001b[0;32m      3\u001b[0m \u001b[0mprint\u001b[0m\u001b[1;33m(\u001b[0m\u001b[0mdatetime\u001b[0m\u001b[1;33m.\u001b[0m\u001b[0mdatetime\u001b[0m\u001b[1;33m.\u001b[0m\u001b[0mnow\u001b[0m\u001b[1;33m(\u001b[0m\u001b[1;33m)\u001b[0m\u001b[1;33m)\u001b[0m\u001b[1;33m\u001b[0m\u001b[0m\n",
      "\u001b[1;32m<ipython-input-11-f1b6a27080c2>\u001b[0m in \u001b[0;36mcos_annealing_local\u001b[1;34m(epoch)\u001b[0m\n\u001b[0;32m      3\u001b[0m     \u001b[1;32mfor\u001b[0m \u001b[0mi\u001b[0m \u001b[1;32min\u001b[0m \u001b[0mrange\u001b[0m\u001b[1;33m(\u001b[0m\u001b[0mepoch\u001b[0m\u001b[1;33m)\u001b[0m\u001b[1;33m:\u001b[0m\u001b[1;33m\u001b[0m\u001b[0m\n\u001b[0;32m      4\u001b[0m         \u001b[0mtrain\u001b[0m\u001b[1;33m(\u001b[0m\u001b[1;34m'local'\u001b[0m\u001b[1;33m,\u001b[0m\u001b[0mn_obs\u001b[0m\u001b[1;33m=\u001b[0m\u001b[1;36m1000\u001b[0m\u001b[1;33m,\u001b[0m\u001b[0mstep\u001b[0m\u001b[1;33m=\u001b[0m\u001b[1;36m500\u001b[0m\u001b[1;33m,\u001b[0m\u001b[0mlr_feed\u001b[0m\u001b[1;33m=\u001b[0m\u001b[1;36m0.05\u001b[0m\u001b[1;33m)\u001b[0m\u001b[1;33m\u001b[0m\u001b[0m\n\u001b[1;32m----> 5\u001b[1;33m         \u001b[0mtrain\u001b[0m\u001b[1;33m(\u001b[0m\u001b[1;34m'local'\u001b[0m\u001b[1;33m,\u001b[0m\u001b[0mn_obs\u001b[0m\u001b[1;33m=\u001b[0m\u001b[1;36m1000\u001b[0m\u001b[1;33m,\u001b[0m\u001b[0mstep\u001b[0m\u001b[1;33m=\u001b[0m\u001b[1;36m3000\u001b[0m\u001b[1;33m,\u001b[0m\u001b[0mlr_feed\u001b[0m\u001b[1;33m=\u001b[0m\u001b[1;36m0.01\u001b[0m\u001b[1;33m)\u001b[0m\u001b[1;33m\u001b[0m\u001b[0m\n\u001b[0m\u001b[0;32m      6\u001b[0m         \u001b[0mtrain\u001b[0m\u001b[1;33m(\u001b[0m\u001b[1;34m'local'\u001b[0m\u001b[1;33m,\u001b[0m\u001b[0mn_obs\u001b[0m\u001b[1;33m=\u001b[0m\u001b[1;36m1000\u001b[0m\u001b[1;33m,\u001b[0m\u001b[0mstep\u001b[0m\u001b[1;33m=\u001b[0m\u001b[1;36m3000\u001b[0m\u001b[1;33m,\u001b[0m\u001b[0mlr_feed\u001b[0m\u001b[1;33m=\u001b[0m\u001b[1;36m0.001\u001b[0m\u001b[1;33m)\u001b[0m\u001b[1;33m\u001b[0m\u001b[0m\n\u001b[0;32m      7\u001b[0m         \u001b[0mresult\u001b[0m\u001b[1;33m=\u001b[0m\u001b[0mtest\u001b[0m\u001b[1;33m(\u001b[0m\u001b[1;34m'local'\u001b[0m\u001b[1;33m)\u001b[0m\u001b[1;33m\u001b[0m\u001b[0m\n",
      "\u001b[1;32m<ipython-input-9-8540ce14db21>\u001b[0m in \u001b[0;36mtrain\u001b[1;34m(strategy, n_obs, step, lr_feed)\u001b[0m\n\u001b[0;32m     16\u001b[0m                                           \u001b[0mregister_input\u001b[0m\u001b[1;33m:\u001b[0m\u001b[1;33m[\u001b[0m\u001b[0mregister_dict\u001b[0m\u001b[1;33m[\u001b[0m\u001b[0mu\u001b[0m\u001b[1;33m]\u001b[0m \u001b[1;32mfor\u001b[0m \u001b[0mu\u001b[0m \u001b[1;32min\u001b[0m \u001b[0mid_list\u001b[0m\u001b[1;33m]\u001b[0m\u001b[1;33m,\u001b[0m\u001b[1;33m\u001b[0m\u001b[0m\n\u001b[0;32m     17\u001b[0m                                           \u001b[0mdate_input\u001b[0m\u001b[1;33m:\u001b[0m\u001b[0mdate_seq\u001b[0m\u001b[1;33m[\u001b[0m\u001b[1;33m-\u001b[0m\u001b[0mlength\u001b[0m\u001b[1;33m:\u001b[0m\u001b[1;33m]\u001b[0m\u001b[1;33m,\u001b[0m\u001b[1;33m\u001b[0m\u001b[0m\n\u001b[1;32m---> 18\u001b[1;33m                                           lr:lr_feed})\n\u001b[0m",
      "\u001b[1;32mC:\\anaconda\\envs\\tensorflow\\lib\\site-packages\\tensorflow\\python\\client\\session.py\u001b[0m in \u001b[0;36mrun\u001b[1;34m(self, fetches, feed_dict, options, run_metadata)\u001b[0m\n\u001b[0;32m    898\u001b[0m     \u001b[1;32mtry\u001b[0m\u001b[1;33m:\u001b[0m\u001b[1;33m\u001b[0m\u001b[0m\n\u001b[0;32m    899\u001b[0m       result = self._run(None, fetches, feed_dict, options_ptr,\n\u001b[1;32m--> 900\u001b[1;33m                          run_metadata_ptr)\n\u001b[0m\u001b[0;32m    901\u001b[0m       \u001b[1;32mif\u001b[0m \u001b[0mrun_metadata\u001b[0m\u001b[1;33m:\u001b[0m\u001b[1;33m\u001b[0m\u001b[0m\n\u001b[0;32m    902\u001b[0m         \u001b[0mproto_data\u001b[0m \u001b[1;33m=\u001b[0m \u001b[0mtf_session\u001b[0m\u001b[1;33m.\u001b[0m\u001b[0mTF_GetBuffer\u001b[0m\u001b[1;33m(\u001b[0m\u001b[0mrun_metadata_ptr\u001b[0m\u001b[1;33m)\u001b[0m\u001b[1;33m\u001b[0m\u001b[0m\n",
      "\u001b[1;32mC:\\anaconda\\envs\\tensorflow\\lib\\site-packages\\tensorflow\\python\\client\\session.py\u001b[0m in \u001b[0;36m_run\u001b[1;34m(self, handle, fetches, feed_dict, options, run_metadata)\u001b[0m\n\u001b[0;32m   1133\u001b[0m     \u001b[1;32mif\u001b[0m \u001b[0mfinal_fetches\u001b[0m \u001b[1;32mor\u001b[0m \u001b[0mfinal_targets\u001b[0m \u001b[1;32mor\u001b[0m \u001b[1;33m(\u001b[0m\u001b[0mhandle\u001b[0m \u001b[1;32mand\u001b[0m \u001b[0mfeed_dict_tensor\u001b[0m\u001b[1;33m)\u001b[0m\u001b[1;33m:\u001b[0m\u001b[1;33m\u001b[0m\u001b[0m\n\u001b[0;32m   1134\u001b[0m       results = self._do_run(handle, final_targets, final_fetches,\n\u001b[1;32m-> 1135\u001b[1;33m                              feed_dict_tensor, options, run_metadata)\n\u001b[0m\u001b[0;32m   1136\u001b[0m     \u001b[1;32melse\u001b[0m\u001b[1;33m:\u001b[0m\u001b[1;33m\u001b[0m\u001b[0m\n\u001b[0;32m   1137\u001b[0m       \u001b[0mresults\u001b[0m \u001b[1;33m=\u001b[0m \u001b[1;33m[\u001b[0m\u001b[1;33m]\u001b[0m\u001b[1;33m\u001b[0m\u001b[0m\n",
      "\u001b[1;32mC:\\anaconda\\envs\\tensorflow\\lib\\site-packages\\tensorflow\\python\\client\\session.py\u001b[0m in \u001b[0;36m_do_run\u001b[1;34m(self, handle, target_list, fetch_list, feed_dict, options, run_metadata)\u001b[0m\n\u001b[0;32m   1314\u001b[0m     \u001b[1;32mif\u001b[0m \u001b[0mhandle\u001b[0m \u001b[1;32mis\u001b[0m \u001b[1;32mNone\u001b[0m\u001b[1;33m:\u001b[0m\u001b[1;33m\u001b[0m\u001b[0m\n\u001b[0;32m   1315\u001b[0m       return self._do_call(_run_fn, feeds, fetches, targets, options,\n\u001b[1;32m-> 1316\u001b[1;33m                            run_metadata)\n\u001b[0m\u001b[0;32m   1317\u001b[0m     \u001b[1;32melse\u001b[0m\u001b[1;33m:\u001b[0m\u001b[1;33m\u001b[0m\u001b[0m\n\u001b[0;32m   1318\u001b[0m       \u001b[1;32mreturn\u001b[0m \u001b[0mself\u001b[0m\u001b[1;33m.\u001b[0m\u001b[0m_do_call\u001b[0m\u001b[1;33m(\u001b[0m\u001b[0m_prun_fn\u001b[0m\u001b[1;33m,\u001b[0m \u001b[0mhandle\u001b[0m\u001b[1;33m,\u001b[0m \u001b[0mfeeds\u001b[0m\u001b[1;33m,\u001b[0m \u001b[0mfetches\u001b[0m\u001b[1;33m)\u001b[0m\u001b[1;33m\u001b[0m\u001b[0m\n",
      "\u001b[1;32mC:\\anaconda\\envs\\tensorflow\\lib\\site-packages\\tensorflow\\python\\client\\session.py\u001b[0m in \u001b[0;36m_do_call\u001b[1;34m(self, fn, *args)\u001b[0m\n\u001b[0;32m   1320\u001b[0m   \u001b[1;32mdef\u001b[0m \u001b[0m_do_call\u001b[0m\u001b[1;33m(\u001b[0m\u001b[0mself\u001b[0m\u001b[1;33m,\u001b[0m \u001b[0mfn\u001b[0m\u001b[1;33m,\u001b[0m \u001b[1;33m*\u001b[0m\u001b[0margs\u001b[0m\u001b[1;33m)\u001b[0m\u001b[1;33m:\u001b[0m\u001b[1;33m\u001b[0m\u001b[0m\n\u001b[0;32m   1321\u001b[0m     \u001b[1;32mtry\u001b[0m\u001b[1;33m:\u001b[0m\u001b[1;33m\u001b[0m\u001b[0m\n\u001b[1;32m-> 1322\u001b[1;33m       \u001b[1;32mreturn\u001b[0m \u001b[0mfn\u001b[0m\u001b[1;33m(\u001b[0m\u001b[1;33m*\u001b[0m\u001b[0margs\u001b[0m\u001b[1;33m)\u001b[0m\u001b[1;33m\u001b[0m\u001b[0m\n\u001b[0m\u001b[0;32m   1323\u001b[0m     \u001b[1;32mexcept\u001b[0m \u001b[0merrors\u001b[0m\u001b[1;33m.\u001b[0m\u001b[0mOpError\u001b[0m \u001b[1;32mas\u001b[0m \u001b[0me\u001b[0m\u001b[1;33m:\u001b[0m\u001b[1;33m\u001b[0m\u001b[0m\n\u001b[0;32m   1324\u001b[0m       \u001b[0mmessage\u001b[0m \u001b[1;33m=\u001b[0m \u001b[0mcompat\u001b[0m\u001b[1;33m.\u001b[0m\u001b[0mas_text\u001b[0m\u001b[1;33m(\u001b[0m\u001b[0me\u001b[0m\u001b[1;33m.\u001b[0m\u001b[0mmessage\u001b[0m\u001b[1;33m)\u001b[0m\u001b[1;33m\u001b[0m\u001b[0m\n",
      "\u001b[1;32mC:\\anaconda\\envs\\tensorflow\\lib\\site-packages\\tensorflow\\python\\client\\session.py\u001b[0m in \u001b[0;36m_run_fn\u001b[1;34m(feed_dict, fetch_list, target_list, options, run_metadata)\u001b[0m\n\u001b[0;32m   1305\u001b[0m       \u001b[0mself\u001b[0m\u001b[1;33m.\u001b[0m\u001b[0m_extend_graph\u001b[0m\u001b[1;33m(\u001b[0m\u001b[1;33m)\u001b[0m\u001b[1;33m\u001b[0m\u001b[0m\n\u001b[0;32m   1306\u001b[0m       return self._call_tf_sessionrun(\n\u001b[1;32m-> 1307\u001b[1;33m           options, feed_dict, fetch_list, target_list, run_metadata)\n\u001b[0m\u001b[0;32m   1308\u001b[0m \u001b[1;33m\u001b[0m\u001b[0m\n\u001b[0;32m   1309\u001b[0m     \u001b[1;32mdef\u001b[0m \u001b[0m_prun_fn\u001b[0m\u001b[1;33m(\u001b[0m\u001b[0mhandle\u001b[0m\u001b[1;33m,\u001b[0m \u001b[0mfeed_dict\u001b[0m\u001b[1;33m,\u001b[0m \u001b[0mfetch_list\u001b[0m\u001b[1;33m)\u001b[0m\u001b[1;33m:\u001b[0m\u001b[1;33m\u001b[0m\u001b[0m\n",
      "\u001b[1;32mC:\\anaconda\\envs\\tensorflow\\lib\\site-packages\\tensorflow\\python\\client\\session.py\u001b[0m in \u001b[0;36m_call_tf_sessionrun\u001b[1;34m(self, options, feed_dict, fetch_list, target_list, run_metadata)\u001b[0m\n\u001b[0;32m   1407\u001b[0m       return tf_session.TF_SessionRun_wrapper(\n\u001b[0;32m   1408\u001b[0m           \u001b[0mself\u001b[0m\u001b[1;33m.\u001b[0m\u001b[0m_session\u001b[0m\u001b[1;33m,\u001b[0m \u001b[0moptions\u001b[0m\u001b[1;33m,\u001b[0m \u001b[0mfeed_dict\u001b[0m\u001b[1;33m,\u001b[0m \u001b[0mfetch_list\u001b[0m\u001b[1;33m,\u001b[0m \u001b[0mtarget_list\u001b[0m\u001b[1;33m,\u001b[0m\u001b[1;33m\u001b[0m\u001b[0m\n\u001b[1;32m-> 1409\u001b[1;33m           run_metadata)\n\u001b[0m\u001b[0;32m   1410\u001b[0m     \u001b[1;32melse\u001b[0m\u001b[1;33m:\u001b[0m\u001b[1;33m\u001b[0m\u001b[0m\n\u001b[0;32m   1411\u001b[0m       \u001b[1;32mwith\u001b[0m \u001b[0merrors\u001b[0m\u001b[1;33m.\u001b[0m\u001b[0mraise_exception_on_not_ok_status\u001b[0m\u001b[1;33m(\u001b[0m\u001b[1;33m)\u001b[0m \u001b[1;32mas\u001b[0m \u001b[0mstatus\u001b[0m\u001b[1;33m:\u001b[0m\u001b[1;33m\u001b[0m\u001b[0m\n",
      "\u001b[1;31mKeyboardInterrupt\u001b[0m: "
     ]
    }
   ],
   "source": [
    "#线下测试\n",
    "print(datetime.datetime.now())\n",
    "result=cos_annealing_local(5)\n",
    "print(datetime.datetime.now())"
   ]
  },
  {
   "cell_type": "code",
   "execution_count": 15,
   "metadata": {},
   "outputs": [
    {
     "name": "stdout",
     "output_type": "stream",
     "text": [
      "2018-08-19 11:56:54.080738\n",
      "train_loss 0.44000142605272863 0.7969419126112822\n",
      "0.0007574438\n",
      "train_loss 0.4397496822694218 0.7969369818028514\n",
      "0.00073891063\n",
      "2018-08-19 12:01:13.835935\n"
     ]
    }
   ],
   "source": [
    "#线上提交\n",
    "print(datetime.datetime.now())\n",
    "result=cos_annealing_online(5)\n",
    "print(datetime.datetime.now())"
   ]
  },
  {
   "cell_type": "code",
   "execution_count": 18,
   "metadata": {
    "collapsed": true
   },
   "outputs": [],
   "source": [
    "#融合\n",
    "result['prob']=(result.prob0+result.prob1+result.prob2+result.prob3+result.prob4)/5"
   ]
  },
  {
   "cell_type": "code",
   "execution_count": 19,
   "metadata": {
    "collapsed": true
   },
   "outputs": [],
   "source": [
    "result.sort_values(by='prob',ascending=False,inplace=True)\n",
    "result=result.reset_index(drop=True)"
   ]
  },
  {
   "cell_type": "code",
   "execution_count": 20,
   "metadata": {
    "collapsed": true
   },
   "outputs": [],
   "source": [
    "result.loc[:24800,['user_id']].to_csv('output/result.csv',header=False,index=False)"
   ]
  },
  {
   "cell_type": "code",
   "execution_count": null,
   "metadata": {
    "collapsed": true
   },
   "outputs": [],
   "source": []
  }
 ],
 "metadata": {
  "kernelspec": {
   "display_name": "Python 3",
   "language": "python",
   "name": "python3"
  },
  "language_info": {
   "codemirror_mode": {
    "name": "ipython",
    "version": 3
   },
   "file_extension": ".py",
   "mimetype": "text/x-python",
   "name": "python",
   "nbconvert_exporter": "python",
   "pygments_lexer": "ipython3",
   "version": "3.5.3"
  }
 },
 "nbformat": 4,
 "nbformat_minor": 2
}
